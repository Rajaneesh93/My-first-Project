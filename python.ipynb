import pandas as pd
import numpy as np
import pandas profiling as pp
